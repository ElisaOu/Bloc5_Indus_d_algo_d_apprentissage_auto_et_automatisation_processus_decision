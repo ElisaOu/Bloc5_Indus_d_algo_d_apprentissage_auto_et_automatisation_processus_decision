{
 "cells": [
  {
   "attachments": {},
   "cell_type": "markdown",
   "metadata": {},
   "source": [
    "# API request: Estimate the right price and rent your car!"
   ]
  },
  {
   "cell_type": "code",
   "execution_count": 1,
   "metadata": {},
   "outputs": [],
   "source": [
    "import requests\n",
    "import json"
   ]
  },
  {
   "cell_type": "code",
   "execution_count": 2,
   "metadata": {},
   "outputs": [
    {
     "name": "stdout",
     "output_type": "stream",
     "text": [
      "This is the API default endpoint. To get more information about the API, go to \"/docs\".\n"
     ]
    }
   ],
   "source": [
    "resp = requests.get(\"https://apiga.herokuapp.com/\")\n",
    "\n",
    "print(resp.json())"
   ]
  },
  {
   "cell_type": "code",
   "execution_count": 8,
   "metadata": {},
   "outputs": [
    {
     "name": "stdout",
     "output_type": "stream",
     "text": [
      "{'prediction': 103.0310966213247}\n"
     ]
    }
   ],
   "source": [
    "response2 = requests.post(\"https://apiga.herokuapp.com/predict\", json = {\n",
    "    \"model_key\": \"BMW\",\n",
    "  \"mileage\": 1000,\n",
    "  \"engine_power\": 20,\n",
    "  \"fuel\": \"petrol\",\n",
    "  \"paint_color\": \"grey\",\n",
    "  \"car_type\": \"sedan\",\n",
    "  \"private_parking_available\": True,\n",
    "  \"has_gps\": True,\n",
    "  \"has_air_conditioning\": True,\n",
    "  \"automatic_car\": False,\n",
    "  \"has_getaround_connect\": True,\n",
    "  \"has_speed_regulator\": True,\n",
    "  \"winter_tires\": True\n",
    "})\n",
    "\n",
    "print(response2.json())"
   ]
  },
  {
   "cell_type": "code",
   "execution_count": null,
   "metadata": {},
   "outputs": [],
   "source": []
  }
 ],
 "metadata": {
  "kernelspec": {
   "display_name": "base",
   "language": "python",
   "name": "python3"
  },
  "language_info": {
   "codemirror_mode": {
    "name": "ipython",
    "version": 3
   },
   "file_extension": ".py",
   "mimetype": "text/x-python",
   "name": "python",
   "nbconvert_exporter": "python",
   "pygments_lexer": "ipython3",
   "version": "3.9.12 (main, Apr  4 2022, 05:22:27) [MSC v.1916 64 bit (AMD64)]"
  },
  "orig_nbformat": 4,
  "vscode": {
   "interpreter": {
    "hash": "422c0ab0dcec51ad7d2c05bd93c78a30b69c1658f31bbd18f4d421578ca2e70c"
   }
  }
 },
 "nbformat": 4,
 "nbformat_minor": 2
}
